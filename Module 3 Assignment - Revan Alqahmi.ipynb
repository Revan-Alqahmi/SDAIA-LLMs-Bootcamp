{
  "cells": [
    {
      "cell_type": "markdown",
      "metadata": {
        "id": "sxquFBDorNn2"
      },
      "source": [
        "# Handwritten Digit Classification\n",
        "\n",
        "\n",
        "For this Hands-on, we will use the popular scikit-learn library to build a basic classifier. The MNIST dataset contains images of handwritten digits, and the task is to classify each image into its corresponding digit (0 to 9)."
      ]
    },
    {
      "cell_type": "markdown",
      "metadata": {
        "id": "LFjb1WbUtzcT"
      },
      "source": [
        "## Import Libraries"
      ]
    },
    {
      "cell_type": "code",
      "execution_count": 1,
      "metadata": {
        "id": "vZuJJeZBt1NX"
      },
      "outputs": [],
      "source": [
        "# Import required libraries\n",
        "import numpy as np\n",
        "import matplotlib.pyplot as plt\n",
        "from keras.datasets import mnist\n",
        "from keras.models import Sequential\n",
        "from keras.layers import Conv2D, MaxPooling2D, Flatten, Dense\n",
        "from keras.utils import to_categorical\n",
        "from sklearn.model_selection import train_test_split"
      ]
    },
    {
      "cell_type": "markdown",
      "metadata": {
        "id": "izR8JS-irUfe"
      },
      "source": [
        "## Load the Dataset"
      ]
    },
    {
      "cell_type": "markdown",
      "source": [
        "**Question 1:** Load the train and test subsets of the mnist dataset from Keras"
      ],
      "metadata": {
        "id": "ksDVyrnEaqY9"
      }
    },
    {
      "cell_type": "code",
      "execution_count": 2,
      "metadata": {
        "id": "tPZGpMact7Hh",
        "colab": {
          "base_uri": "https://localhost:8080/"
        },
        "outputId": "10669727-51fc-46d0-a5ab-9a8b6284e3cd"
      },
      "outputs": [
        {
          "output_type": "stream",
          "name": "stdout",
          "text": [
            "Downloading data from https://storage.googleapis.com/tensorflow/tf-keras-datasets/mnist.npz\n",
            "11490434/11490434 [==============================] - 0s 0us/step\n"
          ]
        }
      ],
      "source": [
        "import tensorflow as tf\n",
        "\n",
        "# Load the MNIST dataset\n",
        "(X_train, y_train), (X_test, y_test) = tf.keras.datasets.mnist.load_data()\n",
        "\n"
      ]
    },
    {
      "cell_type": "markdown",
      "metadata": {
        "id": "1hRAaUS5uBa5"
      },
      "source": [
        "## Data Pre-Processing"
      ]
    },
    {
      "cell_type": "markdown",
      "source": [
        "**Question 2:**  \n",
        "\n",
        "*   Adjust the input shape to match the one the model is expecting\n",
        "*   Normalize the values of the pixels\n",
        "*   Turn labels into categories using the to_categorical function"
      ],
      "metadata": {
        "id": "pk-ekR4Wa1AD"
      }
    },
    {
      "cell_type": "code",
      "execution_count": 3,
      "metadata": {
        "id": "6PlFzdt2uAOc"
      },
      "outputs": [],
      "source": [
        "# Preprocess the data\n",
        "'''\n",
        "-1= automatically adjusts the dimension based on other dimensions and data size\n",
        "28= denotes the height and width of each image in pixels\n",
        "1= represents the grayscale intensity for each pixel\n",
        "'''\n",
        "X_train = X_train.reshape(-1, 28, 28, 1) / 255.0 # Reshape and normalize\n",
        "X_text = X_test.reshape(-1, 28, 28, 1) / 255.0 # divide the result by 255.0 to scale it between 0 and 1\n",
        "\n",
        "X_train, X_test = np.array(X_train), np.array(X_test) # Convert data to array\n",
        "\n",
        "y_train = to_categorical(y_train, num_classes= 10) # converts labels into a binary matrix representation \"one-hot encoding\" to prepare them for classification tasks\n",
        "y_test = to_categorical(y_test, num_classes= 10)"
      ]
    },
    {
      "cell_type": "markdown",
      "metadata": {
        "id": "C2P2NYGAu3uf"
      },
      "source": [
        "## Build and train a CNN"
      ]
    },
    {
      "cell_type": "markdown",
      "source": [
        "**Question 3:** Create a Convolutional neural Network of your choice and be carefyl while you select the following:\n",
        "\n",
        "\n",
        "*   input shape\n",
        "*   activation function at the output layer\n",
        "*   number of output neurons\n",
        "\n"
      ],
      "metadata": {
        "id": "gBh_E3p8yQJd"
      }
    },
    {
      "cell_type": "code",
      "execution_count": 8,
      "metadata": {
        "id": "cSKyObX3u6b5"
      },
      "outputs": [],
      "source": [
        "\n",
        "import matplotlib.pyplot as plt\n",
        "\n",
        "from keras.models import Sequential\n",
        "from keras.layers import Conv2D, MaxPooling2D, Flatten, Dense\n",
        "\n",
        "\n",
        "\n",
        "# Build the CNN model\n",
        "model = Sequential()\n",
        "\n",
        "model.add(Conv2D(32, (3, 3), activation='relu', input_shape= (28, 28, 1))) # 32 filters, each with a 3x3 kernel size, and input shape of (28, 28, 1) for grayscale images\n",
        "model.add(MaxPooling2D((2, 2))) # Add a max pooling layer to downsample the feature maps\n",
        "\n",
        "model.add(Conv2D(64, (3, 3), activation='relu'))\n",
        "model.add(MaxPooling2D((2, 2)))\n",
        "\n",
        "model.add(Flatten()) # Flatten the output from the convolutional layers into a 1D vector\n",
        "\n",
        "model.add(Dense(128, activation='relu')) # Add a fully connected layer with 128 neurons\n",
        "model.add(Dense(10, activation='softmax')) # Output layer with 10 neurons (for 10 classes) and softmax activation for classification tasks\n"
      ]
    },
    {
      "cell_type": "markdown",
      "source": [
        "**Question 4:** Compile and train the model. Choose an appropriate loss function, optimizer, and print out the accuracy of the model."
      ],
      "metadata": {
        "id": "Z37o5R4zyrRB"
      }
    },
    {
      "cell_type": "code",
      "source": [
        "# Compile the model\n",
        "model.compile(optimizer='adam', loss='categorical_crossentropy', metrics=['accuracy'])\n",
        "\n",
        "# Train the model\n",
        "history = model.fit(X_train, y_train, batch_size= 128, epochs= 10, validation_split= 0.2)\n"
      ],
      "metadata": {
        "id": "EsBT-jSlyo35",
        "colab": {
          "base_uri": "https://localhost:8080/"
        },
        "outputId": "fc765ad4-c846-4711-f653-a9b57da71d8a"
      },
      "execution_count": 10,
      "outputs": [
        {
          "output_type": "stream",
          "name": "stdout",
          "text": [
            "Epoch 1/10\n",
            "375/375 [==============================] - 49s 129ms/step - loss: 0.2400 - accuracy: 0.9270 - val_loss: 0.0779 - val_accuracy: 0.9776\n",
            "Epoch 2/10\n",
            "375/375 [==============================] - 67s 179ms/step - loss: 0.0645 - accuracy: 0.9801 - val_loss: 0.0607 - val_accuracy: 0.9823\n",
            "Epoch 3/10\n",
            "375/375 [==============================] - 47s 126ms/step - loss: 0.0436 - accuracy: 0.9865 - val_loss: 0.0450 - val_accuracy: 0.9874\n",
            "Epoch 4/10\n",
            "375/375 [==============================] - 39s 104ms/step - loss: 0.0342 - accuracy: 0.9895 - val_loss: 0.0440 - val_accuracy: 0.9871\n",
            "Epoch 5/10\n",
            "375/375 [==============================] - 38s 103ms/step - loss: 0.0267 - accuracy: 0.9918 - val_loss: 0.0529 - val_accuracy: 0.9851\n",
            "Epoch 6/10\n",
            "375/375 [==============================] - 38s 101ms/step - loss: 0.0205 - accuracy: 0.9936 - val_loss: 0.0404 - val_accuracy: 0.9891\n",
            "Epoch 7/10\n",
            "375/375 [==============================] - 40s 108ms/step - loss: 0.0176 - accuracy: 0.9941 - val_loss: 0.0441 - val_accuracy: 0.9882\n",
            "Epoch 8/10\n",
            "375/375 [==============================] - 38s 101ms/step - loss: 0.0128 - accuracy: 0.9958 - val_loss: 0.0442 - val_accuracy: 0.9882\n",
            "Epoch 9/10\n",
            "375/375 [==============================] - 37s 100ms/step - loss: 0.0125 - accuracy: 0.9958 - val_loss: 0.0435 - val_accuracy: 0.9895\n",
            "Epoch 10/10\n",
            "375/375 [==============================] - 38s 101ms/step - loss: 0.0082 - accuracy: 0.9975 - val_loss: 0.0434 - val_accuracy: 0.9892\n"
          ]
        }
      ]
    },
    {
      "cell_type": "markdown",
      "metadata": {
        "id": "LaYsKjVSu9KF"
      },
      "source": [
        "## Evaluate the Model's performance"
      ]
    },
    {
      "cell_type": "markdown",
      "source": [
        "**Question 5:** Plot the training and validation accuracy to better understand the performance of the model."
      ],
      "metadata": {
        "id": "57_7ykVky_j_"
      }
    },
    {
      "cell_type": "code",
      "execution_count": 13,
      "metadata": {
        "id": "-KqzKudQu8rv",
        "colab": {
          "base_uri": "https://localhost:8080/",
          "height": 486
        },
        "outputId": "cdd23981-4ee7-46c3-82f1-f3a84ffbc6fb"
      },
      "outputs": [
        {
          "output_type": "stream",
          "name": "stdout",
          "text": [
            "313/313 [==============================] - 3s 10ms/step - loss: 8.4420 - accuracy: 0.9888\n",
            "Test Accuracy: 0.9887999892234802\n"
          ]
        },
        {
          "output_type": "display_data",
          "data": {
            "text/plain": [
              "<Figure size 640x480 with 1 Axes>"
            ],
            "image/png": "[encoded data removed]"
          },
          "metadata": {}
        }
      ],
      "source": [
        "# Evaluate the model on the test set\n",
        "test_loss, test_accuracy = model.evaluate(X_test, y_test)\n",
        "print(\"Test Accuracy:\", test_accuracy)\n",
        "\n",
        "# Plot the training and validation accuracy over epochs\n",
        "plt.plot(history.history['accuracy'], label= 'Training Accuracy')\n",
        "plt.plot(history.history['val_accuracy'], label= 'Validation Accuracy')\n",
        "\n",
        "plt.xlabel('Epoch')\n",
        "plt.ylabel('Accuracy')\n",
        "plt.legend()\n",
        "plt.show()"
      ]
    }
  ],
  "metadata": {
    "colab": {
      "provenance": []
    },
    "kernelspec": {
      "display_name": "Python 3",
      "name": "python3"
    },
    "language_info": {
      "name": "python"
    }
  },
  "nbformat": 4,
  "nbformat_minor": 0
}